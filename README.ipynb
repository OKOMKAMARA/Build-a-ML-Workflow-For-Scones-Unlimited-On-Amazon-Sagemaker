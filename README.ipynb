{
 "cells": [
  {
   "cell_type": "markdown",
   "id": "024f91dd-a315-402a-9bb3-fc7b8952c033",
   "metadata": {},
   "source": [
    "# Build-a-ML-Workflow-For-Scones-Unlimited-On-Amazon-SageMaker"
   ]
  },
  {
   "cell_type": "markdown",
   "id": "5695d08e-f480-4e4e-ac09-0896f49cfeb2",
   "metadata": {},
   "source": [
    "---"
   ]
  },
  {
   "cell_type": "markdown",
   "id": "c12b811a-47eb-401c-9efe-4af53730a6c1",
   "metadata": {},
   "source": [
    "## Project"
   ]
  },
  {
   "cell_type": "markdown",
   "id": "4e48b5bd-a23f-4d24-9b3c-ebd1d7eb42dd",
   "metadata": {},
   "source": [
    "---"
   ]
  },
  {
   "cell_type": "markdown",
   "id": "c7cba10a-c937-41fb-b50c-335930783f79",
   "metadata": {},
   "source": [
    "### Overview"
   ]
  },
  {
   "cell_type": "markdown",
   "id": "c89e2371-d55e-4abb-b1a2-3c64ded3c241",
   "metadata": {},
   "source": [
    "This project aimed to create and deploy an image classification model for Scones Unlimited using AWS SageMaker. Key components include a Jupyter notebook demonstrating the ML workflow, Lambda functions for tasks like data serialization and inference, and a Step Functions workflow to automate ML processes. The project utilizes Python 3, AWS Lambda functions, and Step Functions for workflow automation."
   ]
  },
  {
   "cell_type": "markdown",
   "id": "b3d6caec-4202-4d59-a887-4b09d6f615ae",
   "metadata": {},
   "source": [
    "**1. starter.ipynb:** Jupyter notebook showcases a machine learning working workflow for Image Classification. Step 1: Data staging Step 2: Model training and deployment Step 3: Lambdas and step function workflow Step 4: Testing and evaluation Step 5: Cleanup cloud resources 2. starter.html: Web-page displaying 'starter.ipynb'"
   ]
  },
  {
   "cell_type": "markdown",
   "id": "6a5452db-4c3a-4073-88c5-f143694e78c3",
   "metadata": {},
   "source": [
    "**3. Lambda.py script:** compilation of the necessary 'lambda.py' scripts used by three AWS Lambda functions to create a Step Functions workflow. (Note: The 'lambda.py' file typically has a 'lambda_handler' function, which acts as the entry point for the Lambda function when it is triggered by an event such as an HTTP request or a scheduled cron job. This function takes an 'event' object, which contains information about the triggering event and a 'context' object, which contains information about the current execution environment. The 'lambda_handler' function is where the main logic of the Lambda function is executed, it can interact with other AWS services, perform calculations or process data. The function can also return a response to the service or client that triggered the Lambda function.)"
   ]
  },
  {
   "cell_type": "markdown",
   "id": "506abac8-2e90-4d46-a51b-3a3c2f3e03b7",
   "metadata": {},
   "source": [
    "**4. stepfunctions_graph.png:** screen capture of working step function.\n",
    "\n",
    "![stepfunctions_graph image](stepfunctions_graph.png)"
   ]
  },
  {
   "cell_type": "markdown",
   "id": "22090ac9-d11d-4599-9107-d16c15618cc3",
   "metadata": {},
   "source": [
    "**5. stepfunctions_json.json:** Step Function exported to JSON"
   ]
  }
 ],
 "metadata": {
  "kernelspec": {
   "display_name": "Python 3 (ipykernel)",
   "language": "python",
   "name": "python3"
  },
  "language_info": {
   "codemirror_mode": {
    "name": "ipython",
    "version": 3
   },
   "file_extension": ".py",
   "mimetype": "text/x-python",
   "name": "python",
   "nbconvert_exporter": "python",
   "pygments_lexer": "ipython3",
   "version": "3.10.14"
  }
 },
 "nbformat": 4,
 "nbformat_minor": 5
}
